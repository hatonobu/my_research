{
 "cells": [
  {
   "cell_type": "code",
   "execution_count": 19,
   "metadata": {},
   "outputs": [],
   "source": [
    "#ここのみいじるようなハイパラにする\n",
    "#データサイズは2000行以内、それ以上はメモリを確認(環境gpu:rtx3090-24265MiB) \n",
    "download_name = \"test_data\" #testtextがテストデータ, fineに自分好みに変化可能(ファイル名は特に指定なし)\n",
    "model_name = \"tapt512_60K/\" #学習済みモデル(事前学習,単語予測に使用)\n",
    "RE_MODEL_NAME = \"model_tapt_epo100_b128_len128/\" #学習済みモデル(分類ファインチューニングモデル)\n",
    "repeat_times = 2 #繰り返す回数、合計試行回数はプラス1"
   ]
  },
  {
   "cell_type": "code",
   "execution_count": 20,
   "metadata": {},
   "outputs": [
    {
     "name": "stdout",
     "output_type": "stream",
     "text": [
      "[Errno 2] No such file or directory: 'data'\n",
      "/mnt/data1/home/yoshida/my_research/data\n"
     ]
    }
   ],
   "source": [
    "%cd data"
   ]
  },
  {
   "cell_type": "code",
   "execution_count": 21,
   "metadata": {},
   "outputs": [],
   "source": [
    "#!pip install --upgrade torchtext==0.9.0"
   ]
  },
  {
   "cell_type": "code",
   "execution_count": 22,
   "metadata": {},
   "outputs": [],
   "source": [
    "#!pip install -U torch torchtext torchvision torchaudio --extra-index-url https://download.pytorch.org/whl/cu113\n",
    "# CUDA 11.3\n",
    "#!pip install torch==1.11.0+cu113 torchvision==0.12.0+cu113 torchaudio==0.11.0 --extra-index-url https://download.pytorch.org/whl/cu113"
   ]
  },
  {
   "cell_type": "code",
   "execution_count": null,
   "metadata": {},
   "outputs": [],
   "source": []
  },
  {
   "cell_type": "code",
   "execution_count": 23,
   "metadata": {},
   "outputs": [],
   "source": [
    "#一連の流れで実行するためのファイル"
   ]
  },
  {
   "cell_type": "code",
   "execution_count": 24,
   "metadata": {},
   "outputs": [],
   "source": [
    "#pip install torch==1.8.1+cu111 torchvision==0.9.1+cu111 torchaudio==0.8.1 -f https://download.pytorch.org/whl/torch_stable.html"
   ]
  },
  {
   "cell_type": "code",
   "execution_count": 25,
   "metadata": {},
   "outputs": [],
   "source": [
    "import random\n",
    "import glob\n",
    "from tqdm import tqdm\n",
    "\n",
    "import torchtext\n",
    "import torch\n",
    "import numpy as np\n",
    "from torch.utils.data import DataLoader\n",
    "from transformers import BertJapaneseTokenizer, BertForSequenceClassification, BertForMaskedLM\n",
    "#from pytorch_lightning.callbacks import ModelCheckpoint\n",
    "import sys\n",
    "import pandas as pd\n",
    "#import pytorch_lightning as pl\n",
    "\n",
    "import bert_score\n",
    "# hide the loading messages\n",
    "import logging\n",
    "\n",
    "import MeCab\n",
    "import subprocess\n",
    "from IPython.display import HTML\n",
    "#import torchvision\n",
    "from func2 import *\n",
    "import transformers\n",
    "%matplotlib inline\n",
    "import matplotlib.pyplot as plt\n",
    "from matplotlib import rcParams\n",
    "\n",
    "transformers.tokenization_utils.logger.setLevel(logging.ERROR)\n",
    "transformers.configuration_utils.logger.setLevel(logging.ERROR)\n",
    "transformers.modeling_utils.logger.setLevel(logging.ERROR)"
   ]
  },
  {
   "cell_type": "code",
   "execution_count": 26,
   "metadata": {},
   "outputs": [],
   "source": [
    "def __main__():\n",
    "    #モデルの選択\n",
    "    tokenizer = BertJapaneseTokenizer.from_pretrained(model_name)\n",
    "    bert_sc = BertForSequenceClassification.from_pretrained(RE_MODEL_NAME, num_labels=3, output_attentions=True) #学習済みモデルを用いた分類、num_labelで分類する種類の数\n",
    "    bert_sc = bert_sc.cuda() #gpuに乗せて高速化させるための関数\n",
    "    bert_mlm = BertForMaskedLM.from_pretrained(model_name,output_attentions=True)\n",
    "    bert_mlm = bert_mlm.cuda()\n",
    "    \n",
    "    print(\"cleaning text...\")\n",
    "    df = makeclean_csv(download_name)\n",
    "    #攻撃的かどうか判別したい文章をロード後判別する(ファイル名： download_name,2000文章まで、長さ128文節まで)\n",
    "    print(\"load_data...\")\n",
    "    df = labeling_flaming(download_name, bert_sc, tokenizer) #judge_flaming.csvに保存される\n",
    "    #攻撃的文章を変換処理する\n",
    "    print(\"execute change flaming words...\")\n",
    "    df2 = flaming_to_safety(tokenizer,bert_mlm,bert_sc,3,attention_process = True) #bert_textlistに保存\n",
    "    #print(df2)\n",
    "    if df2.empty is True:\n",
    "        print(\"No BERTscore\")\n",
    "    else:\n",
    "        #BERTscoreを計算し、保存する(model_result.csv)\n",
    "        print(\"show BERTsore...\")\n",
    "        df3 = BERTscore_show()\n",
    "        #print(df3)\n",
    "    \n",
    "    #####繰り返し処理#####\n",
    "    for num in range(repeat_times):\n",
    "        if df3.empty is not True:\n",
    "            print(\"re_load_data...\")\n",
    "            safety = df3.take([1],axis=1) #変換後の文章\n",
    "            origin = df3.take([0],axis=1) #元の文章\n",
    "            text_list = []\n",
    "            for text in origin.iloc[:,0]:  ##.iloc[:,[0]]でラベルごと縦の列を取得可能,[]なしでラベルを除く(文章のみ)\n",
    "                text_list.append(text)\n",
    "            re_df, flaming_idx = labeling_flaming_df(safety,bert_sc,tokenizer)#変換後の文章をもう一度通す\n",
    "            origin_flaming = [] \n",
    "            #攻撃的と判断された元の文章を抽出\n",
    "            for idx in flaming_idx:\n",
    "                origin_flaming.append(text_list[idx])\n",
    "            #再度攻撃的と判断した文章の訂正\n",
    "            re_df_safety = flaming_to_safety(tokenizer,bert_mlm, bert_sc,3,attention_process = True)\n",
    "            #####ここに安全な文章(origin_flaming)とre_df_safety内のsafetyを抜き出したdfを作成#####\n",
    "            safety_text = []\n",
    "            for text in re_df_safety.iloc[:,1]:  ##.iloc[:,[0]]でラベルごと縦の列を取得可能,[]なしでラベルを除く(文章のみ)\n",
    "                safety_text.append(text)\n",
    "            re_df = pd.DataFrame({\"flaming_text\":origin_flaming, \"safety_text\": safety_text})\n",
    "            ####作成したdfをBERTscore_show_dfに通す#####\n",
    "            df3 = BERTscore_show_df(re_df,num+2)\n",
    "            #最終的にできたものがその回数ごとに保存される(model_result○.csv)\n",
    "    \n",
    "    print(\"finish!\")"
   ]
  },
  {
   "cell_type": "code",
   "execution_count": 27,
   "metadata": {},
   "outputs": [
    {
     "name": "stdout",
     "output_type": "stream",
     "text": [
      "cleaning text...\n",
      "                                                  text  tag\n",
      "0    衆院選、小選挙区に809人が立候補予定朝日集計(朝日新聞デジタル)||自民党、維新の会、公明...  0.0\n",
      "1    速報『b国に4km級のパンダ獣人が襲来!巨大生物たちは街の上で兜合わせを楽しみ、行為に巻き込...  0.0\n",
      "2    (笑)河村市長って「南京大虐殺など無かった」、「表現の不自由展など許さん」等々、正真正銘の日...  1.0\n",
      "3                                       バッハを亀甲縛りしましょう!  0.0\n",
      "4        tlで大人のチュウ勃発️️️幼児退行、絶対的支配、淫靡の爛れたtl、どうなっちゃうの️️️  2.0\n",
      "..                                                 ...  ...\n",
      "393            なんかそうみたいですね|パチンカスは細かい事は気にしないので続行でお願いします  0.0\n",
      "394         おちんちんがあるなら歓迎だよおなにーじゃもう寂しいよ。|癒しあうならdmしましょう?  2.0\n",
      "395  見透かされてるんだよ…|老ぼれにとっては何もかも政治利用だが|性悪な人間故うまく行くことはな...  1.0\n",
      "396                 そもそも一般人の助言を聞く、保守言論人や保守系政治家ってヤバいよな。  1.0\n",
      "397                                      君は淫乱オナペット(適当)  0.0\n",
      "\n",
      "[398 rows x 2 columns]\n",
      "load_data...\n"
     ]
    },
    {
     "name": "stderr",
     "output_type": "stream",
     "text": [
      "1it [00:00,  5.68it/s]"
     ]
    },
    {
     "name": "stdout",
     "output_type": "stream",
     "text": [
      "execute change flaming words...\n"
     ]
    },
    {
     "name": "stderr",
     "output_type": "stream",
     "text": [
      "95it [00:22,  4.13it/s]"
     ]
    },
    {
     "name": "stdout",
     "output_type": "stream",
     "text": [
      "Error NER\n",
      "Error NER\n"
     ]
    },
    {
     "name": "stderr",
     "output_type": "stream",
     "text": [
      "173it [00:42,  4.07it/s]\n"
     ]
    },
    {
     "name": "stdout",
     "output_type": "stream",
     "text": [
      "show BERTsore...\n",
      "calculating scores...\n",
      "computing bert embedding.\n"
     ]
    },
    {
     "data": {
      "application/vnd.jupyter.widget-view+json": {
       "model_id": "ccd374fb0e344f008ecb56910d27f077",
       "version_major": 2,
       "version_minor": 0
      },
      "text/plain": [
       "  0%|          | 0/6 [00:00<?, ?it/s]"
      ]
     },
     "metadata": {},
     "output_type": "display_data"
    },
    {
     "name": "stdout",
     "output_type": "stream",
     "text": [
      "computing greedy matching.\n"
     ]
    },
    {
     "data": {
      "application/vnd.jupyter.widget-view+json": {
       "model_id": "2215d1b3cf5b4385a7523d1ce54168be",
       "version_major": 2,
       "version_minor": 0
      },
      "text/plain": [
       "  0%|          | 0/3 [00:00<?, ?it/s]"
      ]
     },
     "metadata": {},
     "output_type": "display_data"
    },
    {
     "name": "stdout",
     "output_type": "stream",
     "text": [
      "done in 0.52 seconds, 330.24 sentences/sec\n"
     ]
    },
    {
     "data": {
      "image/png": "[encoded data removed]",
      "text/plain": [
       "<Figure size 432x288 with 1 Axes>"
      ]
     },
     "metadata": {
      "needs_background": "light"
     },
     "output_type": "display_data"
    },
    {
     "name": "stdout",
     "output_type": "stream",
     "text": [
      "re_load_data...\n"
     ]
    },
    {
     "name": "stderr",
     "output_type": "stream",
     "text": [
      "85it [00:17,  4.49it/s]"
     ]
    },
    {
     "name": "stdout",
     "output_type": "stream",
     "text": [
      "Error NER\n",
      "Error NER\n"
     ]
    },
    {
     "name": "stderr",
     "output_type": "stream",
     "text": [
      "157it [00:33,  4.67it/s]\n"
     ]
    },
    {
     "name": "stdout",
     "output_type": "stream",
     "text": [
      "calculating scores...\n",
      "computing bert embedding.\n"
     ]
    },
    {
     "data": {
      "application/vnd.jupyter.widget-view+json": {
       "model_id": "75cb5e99579e4289bef377b321b6bc11",
       "version_major": 2,
       "version_minor": 0
      },
      "text/plain": [
       "  0%|          | 0/5 [00:00<?, ?it/s]"
      ]
     },
     "metadata": {},
     "output_type": "display_data"
    },
    {
     "name": "stdout",
     "output_type": "stream",
     "text": [
      "computing greedy matching.\n"
     ]
    },
    {
     "data": {
      "application/vnd.jupyter.widget-view+json": {
       "model_id": "39c804b0894d4b31be3c26eff54b5898",
       "version_major": 2,
       "version_minor": 0
      },
      "text/plain": [
       "  0%|          | 0/3 [00:00<?, ?it/s]"
      ]
     },
     "metadata": {},
     "output_type": "display_data"
    },
    {
     "name": "stdout",
     "output_type": "stream",
     "text": [
      "done in 0.48 seconds, 323.99 sentences/sec\n"
     ]
    },
    {
     "data": {
      "image/png": "[encoded data removed]",
      "text/plain": [
       "<Figure size 432x288 with 1 Axes>"
      ]
     },
     "metadata": {
      "needs_background": "light"
     },
     "output_type": "display_data"
    },
    {
     "name": "stdout",
     "output_type": "stream",
     "text": [
      "re_load_data...\n"
     ]
    },
    {
     "name": "stderr",
     "output_type": "stream",
     "text": [
      "85it [00:16,  5.39it/s]"
     ]
    },
    {
     "name": "stdout",
     "output_type": "stream",
     "text": [
      "Error NER\n",
      "Error NER\n"
     ]
    },
    {
     "name": "stderr",
     "output_type": "stream",
     "text": [
      "156it [00:31,  4.90it/s]\n"
     ]
    },
    {
     "name": "stdout",
     "output_type": "stream",
     "text": [
      "calculating scores...\n",
      "computing bert embedding.\n"
     ]
    },
    {
     "data": {
      "application/vnd.jupyter.widget-view+json": {
       "model_id": "350e780199d342399de2ee62b578ede1",
       "version_major": 2,
       "version_minor": 0
      },
      "text/plain": [
       "  0%|          | 0/5 [00:00<?, ?it/s]"
      ]
     },
     "metadata": {},
     "output_type": "display_data"
    },
    {
     "name": "stdout",
     "output_type": "stream",
     "text": [
      "computing greedy matching.\n"
     ]
    },
    {
     "data": {
      "application/vnd.jupyter.widget-view+json": {
       "model_id": "40fa5549eda14eca852c25de5cfe0a18",
       "version_major": 2,
       "version_minor": 0
      },
      "text/plain": [
       "  0%|          | 0/3 [00:00<?, ?it/s]"
      ]
     },
     "metadata": {},
     "output_type": "display_data"
    },
    {
     "name": "stdout",
     "output_type": "stream",
     "text": [
      "done in 0.48 seconds, 326.36 sentences/sec\n"
     ]
    },
    {
     "data": {
      "image/png": "[encoded data removed]",
      "text/plain": [
       "<Figure size 432x288 with 1 Axes>"
      ]
     },
     "metadata": {
      "needs_background": "light"
     },
     "output_type": "display_data"
    },
    {
     "name": "stdout",
     "output_type": "stream",
     "text": [
      "finish!\n"
     ]
    }
   ],
   "source": [
    "if __name__ == __main__():\n",
    "    main()"
   ]
  },
  {
   "cell_type": "code",
   "execution_count": null,
   "metadata": {},
   "outputs": [],
   "source": []
  }
 ],
 "metadata": {
  "kernelspec": {
   "display_name": "Python 3",
   "language": "python",
   "name": "python3"
  },
  "language_info": {
   "codemirror_mode": {
    "name": "ipython",
    "version": 3
   },
   "file_extension": ".py",
   "mimetype": "text/x-python",
   "name": "python",
   "nbconvert_exporter": "python",
   "pygments_lexer": "ipython3",
   "version": "3.8.10"
  }
 },
 "nbformat": 4,
 "nbformat_minor": 4
}
