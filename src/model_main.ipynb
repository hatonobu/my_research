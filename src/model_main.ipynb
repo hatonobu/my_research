{
 "cells": [
  {
   "cell_type": "code",
   "execution_count": 1,
   "metadata": {},
   "outputs": [],
   "source": [
    "#ここのみいじるようなハイパラにする\n",
    "#データサイズは2000行以内、それ以上はメモリを確認(環境gpu:rtx3090-24265MiB) \n",
    "download_name = \"test_data\" #testtextがテストデータ, fineに自分好みに変化可能(ファイル名は特に指定なし)\n",
    "model_name = \"tapt512_60K/\" #学習済みモデル(事前学習,単語予測に使用)\n",
    "RE_MODEL_NAME = \"model_tapt_epo100_b128_len128/\" #学習済みモデル(分類ファインチューニングモデル)\n",
    "repeat_times = 3 #繰り返す回数、合計試行回数はプラス1"
   ]
  },
  {
   "cell_type": "code",
   "execution_count": 2,
   "metadata": {},
   "outputs": [
    {
     "name": "stdout",
     "output_type": "stream",
     "text": [
      "/mnt/data1/home/yoshida/my_research/data\n"
     ]
    }
   ],
   "source": [
    "%cd data"
   ]
  },
  {
   "cell_type": "code",
   "execution_count": 3,
   "metadata": {},
   "outputs": [],
   "source": [
    "#!pip install --upgrade torchtext==0.9.0"
   ]
  },
  {
   "cell_type": "code",
   "execution_count": 4,
   "metadata": {},
   "outputs": [],
   "source": [
    "#!pip install -U torch torchtext torchvision torchaudio --extra-index-url https://download.pytorch.org/whl/cu113\n",
    "# CUDA 11.3\n",
    "#!pip install torch==1.11.0+cu113 torchvision==0.12.0+cu113 torchaudio==0.11.0 --extra-index-url https://download.pytorch.org/whl/cu113"
   ]
  },
  {
   "cell_type": "code",
   "execution_count": 5,
   "metadata": {},
   "outputs": [
    {
     "name": "stdout",
     "output_type": "stream",
     "text": [
      "Mon Mar 27 17:41:52 2023       \r\n",
      "+-----------------------------------------------------------------------------+\r\n",
      "| NVIDIA-SMI 470.57.02    Driver Version: 470.57.02    CUDA Version: 11.4     |\r\n",
      "|-------------------------------+----------------------+----------------------+\r\n",
      "| GPU  Name        Persistence-M| Bus-Id        Disp.A | Volatile Uncorr. ECC |\r\n",
      "| Fan  Temp  Perf  Pwr:Usage/Cap|         Memory-Usage | GPU-Util  Compute M. |\r\n",
      "|                               |                      |               MIG M. |\r\n",
      "|===============================+======================+======================|\r\n",
      "|   0  NVIDIA GeForce ...  On   | 00000000:01:00.0  On |                  N/A |\r\n",
      "| 42%   50C    P2   110W / 350W |   6219MiB / 24260MiB |      0%      Default |\r\n",
      "|                               |                      |                  N/A |\r\n",
      "+-------------------------------+----------------------+----------------------+\r\n",
      "                                                                               \r\n",
      "+-----------------------------------------------------------------------------+\r\n",
      "| Processes:                                                                  |\r\n",
      "|  GPU   GI   CI        PID   Type   Process name                  GPU Memory |\r\n",
      "|        ID   ID                                                   Usage      |\r\n",
      "|=============================================================================|\r\n",
      "+-----------------------------------------------------------------------------+\r\n"
     ]
    }
   ],
   "source": [
    "!nvidia-smi"
   ]
  },
  {
   "cell_type": "code",
   "execution_count": 6,
   "metadata": {},
   "outputs": [],
   "source": [
    "#一連の流れで実行するためのファイル"
   ]
  },
  {
   "cell_type": "code",
   "execution_count": 7,
   "metadata": {},
   "outputs": [],
   "source": [
    "#pip install torch==1.8.1+cu111 torchvision==0.9.1+cu111 torchaudio==0.8.1 -f https://download.pytorch.org/whl/torch_stable.html"
   ]
  },
  {
   "cell_type": "code",
   "execution_count": 8,
   "metadata": {},
   "outputs": [],
   "source": [
    "import random\n",
    "import glob\n",
    "from tqdm import tqdm\n",
    "\n",
    "import torchtext\n",
    "import torch\n",
    "import numpy as np\n",
    "from torch.utils.data import DataLoader\n",
    "from transformers import BertJapaneseTokenizer, BertForSequenceClassification, BertForMaskedLM\n",
    "#from pytorch_lightning.callbacks import ModelCheckpoint\n",
    "import sys\n",
    "import pandas as pd\n",
    "#import pytorch_lightning as pl\n",
    "\n",
    "import bert_score\n",
    "# hide the loading messages\n",
    "import logging\n",
    "\n",
    "import MeCab\n",
    "import subprocess\n",
    "from IPython.display import HTML\n",
    "#import torchvision\n",
    "from func_ex import *\n",
    "import transformers\n",
    "%matplotlib inline\n",
    "import matplotlib.pyplot as plt\n",
    "from matplotlib import rcParams\n",
    "\n",
    "transformers.tokenization_utils.logger.setLevel(logging.ERROR)\n",
    "transformers.configuration_utils.logger.setLevel(logging.ERROR)\n",
    "transformers.modeling_utils.logger.setLevel(logging.ERROR)"
   ]
  },
  {
   "cell_type": "code",
   "execution_count": 9,
   "metadata": {},
   "outputs": [],
   "source": [
    "def __main__():\n",
    "    #モデルの選択\n",
    "    tokenizer = BertJapaneseTokenizer.from_pretrained(model_name)\n",
    "    bert_sc = BertForSequenceClassification.from_pretrained(RE_MODEL_NAME, num_labels=3, output_attentions=True) #学習済みモデルを用いた分類、num_labelで分類する種類の数\n",
    "    bert_sc = bert_sc.cuda() #gpuに乗せて高速化させるための関数\n",
    "    bert_mlm = BertForMaskedLM.from_pretrained(model_name,output_attentions=True)\n",
    "    bert_mlm = bert_mlm.cuda()\n",
    "    \n",
    "    print(\"cleaning text...\")\n",
    "    df = makeclean_csv(download_name)\n",
    "    #攻撃的かどうか判別したい文章をロード後判別する(ファイル名： download_name,2000文章まで、長さ128文節まで)\n",
    "    print(\"load_data...\")\n",
    "    df = labeling_flaming(download_name, bert_sc, tokenizer) #judge_flaming.csvに保存される\n",
    "    #攻撃的文章を変換処理する\n",
    "    print(\"execute change flaming words...\")\n",
    "    df2 = flaming_to_safety(tokenizer,bert_mlm,bert_sc,3,0,attention_process = True) #bert_textlistに保存\n",
    "    #print(df2)\n",
    "    if df2.empty is True:\n",
    "        print(\"No BERTscore\")\n",
    "    else:\n",
    "        #BERTscoreを計算し、保存する(model_result.csv)\n",
    "        print(\"show BERTsore...\")\n",
    "        df3 = Score_all(df2,1)\n",
    "        #print(df3)\n",
    "    \n",
    "    #####繰り返し処理#####\n",
    "    for num in range(repeat_times):\n",
    "        if df3.empty is not True:\n",
    "            print(\"re_load_data...\")\n",
    "            safety = df3.take([1],axis=1) #変換後の文章\n",
    "            origin = df3.take([0],axis=1) #元の文章\n",
    "            text_list = []\n",
    "            for text in origin.iloc[:,0]:  ##.iloc[:,[0]]でラベルごと縦の列を取得可能,[]なしでラベルを除く(文章のみ)\n",
    "                text_list.append(text)\n",
    "            re_df, flaming_idx = labeling_flaming_df(safety,bert_sc,tokenizer)#変換後の文章をもう一度通す\n",
    "            origin_flaming = [] \n",
    "            #攻撃的と判断された元の文章を抽出\n",
    "            for idx in flaming_idx:\n",
    "                origin_flaming.append(text_list[idx])\n",
    "            #再度攻撃的と判断した文章の訂正\n",
    "            re_df_safety = flaming_to_safety(tokenizer,bert_mlm, bert_sc,3,num+1,attention_process = True)\n",
    "            #####ここに安全な文章(origin_flaming)とre_df_safety内のsafetyを抜き出したdfを作成#####\n",
    "            safety_text = []\n",
    "            for text in re_df_safety.iloc[:,1]:  ##.iloc[:,[0]]でラベルごと縦の列を取得可能,[]なしでラベルを除く(文章のみ)\n",
    "                safety_text.append(text)\n",
    "            re_df = pd.DataFrame({\"flaming_text\":origin_flaming, \"safety_text\": safety_text})\n",
    "            ####作成したdfをBERTscore_show_dfに通す#####\n",
    "            df3 = Score_all(re_df,num+2)\n",
    "            #最終的にできたものがその回数ごとに保存される(model_result○.csv)\n",
    "    \n",
    "    print(\"finish!\")"
   ]
  },
  {
   "cell_type": "code",
   "execution_count": 10,
   "metadata": {},
   "outputs": [
    {
     "name": "stdout",
     "output_type": "stream",
     "text": [
      "cleaning text...\n",
      "                                                  text  tag\n",
      "0    衆院選、小選挙区に809人が立候補予定朝日集計(朝日新聞デジタル)||自民党、維新の会、公明...  0.0\n",
      "1    速報『b国に4km級のパンダ獣人が襲来!巨大生物たちは街の上で兜合わせを楽しみ、行為に巻き込...  0.0\n",
      "2    (笑)河村市長って「南京大虐殺など無かった」、「表現の不自由展など許さん」等々、正真正銘の日...  1.0\n",
      "3                                       バッハを亀甲縛りしましょう!  0.0\n",
      "4        tlで大人のチュウ勃発️️️幼児退行、絶対的支配、淫靡の爛れたtl、どうなっちゃうの️️️  2.0\n",
      "..                                                 ...  ...\n",
      "395  見透かされてるんだよ…|老ぼれにとっては何もかも政治利用だが|性悪な人間故うまく行くことはな...  1.0\n",
      "396                 そもそも一般人の助言を聞く、保守言論人や保守系政治家ってヤバいよな。  1.0\n",
      "397                                      君は淫乱オナペット(適当)  0.0\n",
      "398                                鉄オタは新左翼と同じくらい内ゲバが好き  1.0\n",
      "399                                 左翼は頭いかれたやつしかおらんのか?  1.0\n",
      "\n",
      "[400 rows x 2 columns]\n",
      "load_data...\n"
     ]
    },
    {
     "name": "stderr",
     "output_type": "stream",
     "text": [
      "\r",
      "0it [00:00, ?it/s]"
     ]
    },
    {
     "name": "stdout",
     "output_type": "stream",
     "text": [
      "execute change flaming words...\n"
     ]
    },
    {
     "name": "stderr",
     "output_type": "stream",
     "text": [
      "96it [00:23,  3.98it/s]"
     ]
    },
    {
     "name": "stdout",
     "output_type": "stream",
     "text": [
      "Error NER\n",
      "Error NER\n"
     ]
    },
    {
     "name": "stderr",
     "output_type": "stream",
     "text": [
      "175it [00:43,  3.99it/s]\n"
     ]
    },
    {
     "name": "stdout",
     "output_type": "stream",
     "text": [
      "show BERTsore...\n",
      "senBERTscore\n"
     ]
    },
    {
     "data": {
      "image/png": "[encoded data removed]",
      "text/plain": [
       "<Figure size 432x288 with 1 Axes>"
      ]
     },
     "metadata": {
      "needs_background": "light"
     },
     "output_type": "display_data"
    },
    {
     "name": "stdout",
     "output_type": "stream",
     "text": [
      "avarage score:  0.965854574155596\n"
     ]
    },
    {
     "name": "stderr",
     "output_type": "stream",
     "text": [
      "/usr/local/lib/python3.8/dist-packages/nltk-3.5-py3.8.egg/nltk/translate/bleu_score.py:516: UserWarning: \n",
      "The hypothesis contains 0 counts of 3-gram overlaps.\n",
      "Therefore the BLEU score evaluates to 0, independently of\n",
      "how many N-gram overlaps of lower order it contains.\n",
      "Consider using lower n-gram order or use SmoothingFunction()\n",
      "  warnings.warn(_msg)\n",
      "/usr/local/lib/python3.8/dist-packages/nltk-3.5-py3.8.egg/nltk/translate/bleu_score.py:516: UserWarning: \n",
      "The hypothesis contains 0 counts of 4-gram overlaps.\n",
      "Therefore the BLEU score evaluates to 0, independently of\n",
      "how many N-gram overlaps of lower order it contains.\n",
      "Consider using lower n-gram order or use SmoothingFunction()\n",
      "  warnings.warn(_msg)\n"
     ]
    },
    {
     "name": "stdout",
     "output_type": "stream",
     "text": [
      "Bleuscore\n"
     ]
    },
    {
     "data": {
      "image/png": "[encoded data removed]",
      "text/plain": [
       "<Figure size 432x288 with 1 Axes>"
      ]
     },
     "metadata": {
      "needs_background": "light"
     },
     "output_type": "display_data"
    },
    {
     "name": "stdout",
     "output_type": "stream",
     "text": [
      "avarage score:  0.7950552909243741\n",
      "calculating scores...\n",
      "computing bert embedding.\n"
     ]
    },
    {
     "data": {
      "application/vnd.jupyter.widget-view+json": {
       "model_id": "1c36c18de4044709a62f153dd296de74",
       "version_major": 2,
       "version_minor": 0
      },
      "text/plain": [
       "  0%|          | 0/6 [00:00<?, ?it/s]"
      ]
     },
     "metadata": {},
     "output_type": "display_data"
    },
    {
     "name": "stdout",
     "output_type": "stream",
     "text": [
      "computing greedy matching.\n"
     ]
    },
    {
     "data": {
      "application/vnd.jupyter.widget-view+json": {
       "model_id": "d781af24efd548ddb7047f3ca2dbcce6",
       "version_major": 2,
       "version_minor": 0
      },
      "text/plain": [
       "  0%|          | 0/3 [00:00<?, ?it/s]"
      ]
     },
     "metadata": {},
     "output_type": "display_data"
    },
    {
     "name": "stdout",
     "output_type": "stream",
     "text": [
      "done in 0.54 seconds, 324.51 sentences/sec\n",
      "F1score\n"
     ]
    },
    {
     "data": {
      "image/png": "[encoded data removed]",
      "text/plain": [
       "<Figure size 432x288 with 1 Axes>"
      ]
     },
     "metadata": {
      "needs_background": "light"
     },
     "output_type": "display_data"
    },
    {
     "name": "stdout",
     "output_type": "stream",
     "text": [
      "avarage score:  0.946099227155958\n",
      "re_load_data...\n"
     ]
    },
    {
     "name": "stderr",
     "output_type": "stream",
     "text": [
      "87it [00:20,  3.91it/s]"
     ]
    },
    {
     "name": "stdout",
     "output_type": "stream",
     "text": [
      "Error NER\n",
      "Error NER\n"
     ]
    },
    {
     "name": "stderr",
     "output_type": "stream",
     "text": [
      "165it [00:40,  4.08it/s]\n"
     ]
    },
    {
     "name": "stdout",
     "output_type": "stream",
     "text": [
      "senBERTscore\n"
     ]
    },
    {
     "data": {
      "image/png": "[encoded data removed]",
      "text/plain": [
       "<Figure size 432x288 with 1 Axes>"
      ]
     },
     "metadata": {
      "needs_background": "light"
     },
     "output_type": "display_data"
    },
    {
     "name": "stdout",
     "output_type": "stream",
     "text": [
      "avarage score:  0.9536665650772104\n"
     ]
    },
    {
     "name": "stderr",
     "output_type": "stream",
     "text": [
      "/usr/local/lib/python3.8/dist-packages/nltk-3.5-py3.8.egg/nltk/translate/bleu_score.py:516: UserWarning: \n",
      "The hypothesis contains 0 counts of 2-gram overlaps.\n",
      "Therefore the BLEU score evaluates to 0, independently of\n",
      "how many N-gram overlaps of lower order it contains.\n",
      "Consider using lower n-gram order or use SmoothingFunction()\n",
      "  warnings.warn(_msg)\n"
     ]
    },
    {
     "name": "stdout",
     "output_type": "stream",
     "text": [
      "Bleuscore\n"
     ]
    },
    {
     "data": {
      "image/png": "[encoded data removed]",
      "text/plain": [
       "<Figure size 432x288 with 1 Axes>"
      ]
     },
     "metadata": {
      "needs_background": "light"
     },
     "output_type": "display_data"
    },
    {
     "name": "stdout",
     "output_type": "stream",
     "text": [
      "avarage score:  0.7336992569276567\n",
      "calculating scores...\n",
      "computing bert embedding.\n"
     ]
    },
    {
     "data": {
      "application/vnd.jupyter.widget-view+json": {
       "model_id": "4235d5d1921d4d1abecb8b97afe703b0",
       "version_major": 2,
       "version_minor": 0
      },
      "text/plain": [
       "  0%|          | 0/6 [00:00<?, ?it/s]"
      ]
     },
     "metadata": {},
     "output_type": "display_data"
    },
    {
     "name": "stdout",
     "output_type": "stream",
     "text": [
      "computing greedy matching.\n"
     ]
    },
    {
     "data": {
      "application/vnd.jupyter.widget-view+json": {
       "model_id": "dda495bf4df34f9e8aa2a2d043971b46",
       "version_major": 2,
       "version_minor": 0
      },
      "text/plain": [
       "  0%|          | 0/3 [00:00<?, ?it/s]"
      ]
     },
     "metadata": {},
     "output_type": "display_data"
    },
    {
     "name": "stdout",
     "output_type": "stream",
     "text": [
      "done in 0.51 seconds, 320.57 sentences/sec\n",
      "F1score\n"
     ]
    },
    {
     "data": {
      "image/png": "[encoded data removed]",
      "text/plain": [
       "<Figure size 432x288 with 1 Axes>"
      ]
     },
     "metadata": {
      "needs_background": "light"
     },
     "output_type": "display_data"
    },
    {
     "name": "stdout",
     "output_type": "stream",
     "text": [
      "avarage score:  0.9243874188625452\n",
      "re_load_data...\n"
     ]
    },
    {
     "name": "stderr",
     "output_type": "stream",
     "text": [
      "87it [00:18,  4.17it/s]"
     ]
    },
    {
     "name": "stdout",
     "output_type": "stream",
     "text": [
      "Error NER\n",
      "Error NER\n"
     ]
    },
    {
     "name": "stderr",
     "output_type": "stream",
     "text": [
      "161it [00:37,  4.35it/s]\n"
     ]
    },
    {
     "name": "stdout",
     "output_type": "stream",
     "text": [
      "senBERTscore\n"
     ]
    },
    {
     "data": {
      "image/png": "[encoded data removed]",
      "text/plain": [
       "<Figure size 432x288 with 1 Axes>"
      ]
     },
     "metadata": {
      "needs_background": "light"
     },
     "output_type": "display_data"
    },
    {
     "name": "stdout",
     "output_type": "stream",
     "text": [
      "avarage score:  0.9461614464007201\n",
      "Bleuscore\n"
     ]
    },
    {
     "data": {
      "image/png": "[encoded data removed]",
      "text/plain": [
       "<Figure size 432x288 with 1 Axes>"
      ]
     },
     "metadata": {
      "needs_background": "light"
     },
     "output_type": "display_data"
    },
    {
     "name": "stdout",
     "output_type": "stream",
     "text": [
      "avarage score:  0.7036544231628158\n",
      "calculating scores...\n",
      "computing bert embedding.\n"
     ]
    },
    {
     "data": {
      "application/vnd.jupyter.widget-view+json": {
       "model_id": "8ec2ea13011b48d7b0c2174d98cb3465",
       "version_major": 2,
       "version_minor": 0
      },
      "text/plain": [
       "  0%|          | 0/5 [00:00<?, ?it/s]"
      ]
     },
     "metadata": {},
     "output_type": "display_data"
    },
    {
     "name": "stdout",
     "output_type": "stream",
     "text": [
      "computing greedy matching.\n"
     ]
    },
    {
     "data": {
      "application/vnd.jupyter.widget-view+json": {
       "model_id": "9408fa4fe55144e385609ab7b7cbbde9",
       "version_major": 2,
       "version_minor": 0
      },
      "text/plain": [
       "  0%|          | 0/3 [00:00<?, ?it/s]"
      ]
     },
     "metadata": {},
     "output_type": "display_data"
    },
    {
     "name": "stdout",
     "output_type": "stream",
     "text": [
      "done in 0.49 seconds, 327.63 sentences/sec\n",
      "F1score\n"
     ]
    },
    {
     "data": {
      "image/png": "[encoded data removed]",
      "text/plain": [
       "<Figure size 432x288 with 1 Axes>"
      ]
     },
     "metadata": {
      "needs_background": "light"
     },
     "output_type": "display_data"
    },
    {
     "name": "stdout",
     "output_type": "stream",
     "text": [
      "avarage score:  0.9136398105147463\n",
      "re_load_data...\n"
     ]
    },
    {
     "name": "stderr",
     "output_type": "stream",
     "text": [
      "86it [00:20,  3.98it/s]"
     ]
    },
    {
     "name": "stdout",
     "output_type": "stream",
     "text": [
      "Error NER\n",
      "Error NER\n"
     ]
    },
    {
     "name": "stderr",
     "output_type": "stream",
     "text": [
      "159it [00:38,  4.09it/s]\n"
     ]
    },
    {
     "name": "stdout",
     "output_type": "stream",
     "text": [
      "senBERTscore\n"
     ]
    },
    {
     "data": {
      "image/png": "[encoded data removed]",
      "text/plain": [
       "<Figure size 432x288 with 1 Axes>"
      ]
     },
     "metadata": {
      "needs_background": "light"
     },
     "output_type": "display_data"
    },
    {
     "name": "stdout",
     "output_type": "stream",
     "text": [
      "avarage score:  0.9390365929936673\n",
      "Bleuscore\n"
     ]
    },
    {
     "data": {
      "image/png": "[encoded data removed]",
      "text/plain": [
       "<Figure size 432x288 with 1 Axes>"
      ]
     },
     "metadata": {
      "needs_background": "light"
     },
     "output_type": "display_data"
    },
    {
     "name": "stdout",
     "output_type": "stream",
     "text": [
      "avarage score:  0.6803049510378948\n",
      "calculating scores...\n",
      "computing bert embedding.\n"
     ]
    },
    {
     "data": {
      "application/vnd.jupyter.widget-view+json": {
       "model_id": "45b019e339cc4766822279d13446c47e",
       "version_major": 2,
       "version_minor": 0
      },
      "text/plain": [
       "  0%|          | 0/5 [00:00<?, ?it/s]"
      ]
     },
     "metadata": {},
     "output_type": "display_data"
    },
    {
     "name": "stdout",
     "output_type": "stream",
     "text": [
      "computing greedy matching.\n"
     ]
    },
    {
     "data": {
      "application/vnd.jupyter.widget-view+json": {
       "model_id": "64589a009bc845aeb51fe0d949f5450b",
       "version_major": 2,
       "version_minor": 0
      },
      "text/plain": [
       "  0%|          | 0/3 [00:00<?, ?it/s]"
      ]
     },
     "metadata": {},
     "output_type": "display_data"
    },
    {
     "name": "stdout",
     "output_type": "stream",
     "text": [
      "done in 0.48 seconds, 328.13 sentences/sec\n",
      "F1score\n"
     ]
    },
    {
     "data": {
      "image/png": "[encoded data removed]",
      "text/plain": [
       "<Figure size 432x288 with 1 Axes>"
      ]
     },
     "metadata": {
      "needs_background": "light"
     },
     "output_type": "display_data"
    },
    {
     "name": "stdout",
     "output_type": "stream",
     "text": [
      "avarage score:  0.9047700391625458\n",
      "finish!\n"
     ]
    }
   ],
   "source": [
    "if __name__ == __main__():\n",
    "    main()"
   ]
  },
  {
   "cell_type": "code",
   "execution_count": 11,
   "metadata": {},
   "outputs": [],
   "source": [
    "#このコードは危険単語の周辺単語もマスクし、ループ回数ごとに1,2,3,1,2,3,...のように上位○位抽出する箇所をずらしている。\n",
    "#そのため結果に大きく変動が生じるため、結果に相違が出るだろう。\n",
    "#もし変更したい場合はpredict_one_after_anotherに有る部分を変更することで以上の処理を元に戻すことができる。\n",
    "#GoodLuck\n",
    "#Author Motonobu Yoshida"
   ]
  }
 ],
 "metadata": {
  "kernelspec": {
   "display_name": "Python 3",
   "language": "python",
   "name": "python3"
  },
  "language_info": {
   "codemirror_mode": {
    "name": "ipython",
    "version": 3
   },
   "file_extension": ".py",
   "mimetype": "text/x-python",
   "name": "python",
   "nbconvert_exporter": "python",
   "pygments_lexer": "ipython3",
   "version": "3.8.10"
  }
 },
 "nbformat": 4,
 "nbformat_minor": 4
}
